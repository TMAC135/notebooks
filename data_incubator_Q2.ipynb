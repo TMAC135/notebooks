{
 "cells": [
  {
   "cell_type": "markdown",
   "metadata": {},
   "source": [
    "# Question 2\n",
    "       Ran Tian    \n",
    "       University of Minnesota   \n",
    "       tianran0039@gmail.com\n",
    "       2016/10/29"
   ]
  },
  {
   "cell_type": "code",
   "execution_count": 1,
   "metadata": {
    "collapsed": true
   },
   "outputs": [],
   "source": [
    "# problem for solving Q2\n",
    "import numpy as np\n",
    "import pandas as pd"
   ]
  },
  {
   "cell_type": "markdown",
   "metadata": {},
   "source": [
    "## load the data\n",
    "only consider the data after 2015, i use pandas to load the data and merge them in to one csv file, at the same time, I convert the starttime and stoptime to datetime type for future use"
   ]
  },
  {
   "cell_type": "markdown",
   "metadata": {},
   "source": [
    "   This is the code for merge the data from raw data"
   ]
  },
  {
   "cell_type": "code",
   "execution_count": 1,
   "metadata": {
    "collapsed": true
   },
   "outputs": [],
   "source": [
    "# import arrow as ar\n",
    "# from dateutil.relativedelta import relativedelta\n",
    "# import pandas as pd\n",
    "\n",
    "# def save_monthly_data(start_time,end_time):\n",
    "#     '''\n",
    "#     savethe data to a csv individually\n",
    "#     :param start_time:\n",
    "#     :param end_month:\n",
    "#     :return:\n",
    "#     '''\n",
    "#     start = ar.get(start_time).naive.date()\n",
    "#     end = ar.get(end_time).naive.date()\n",
    "#     df_total = pd.DataFrame()\n",
    "#     while start <= end:\n",
    "#         year , month = start.year,start.month\n",
    "#         if start.month <= 9:\n",
    "#             month = '0' + str(start.month)\n",
    "#         file_name = 'C:\\Users\\\\tianr_000\\PycharmProjects\\data_analysis\\models\\data_incubator_challenge\\data\\\\' + '{0}{1}-citibike-tripdata.csv'.format(year , month)\n",
    "#         df_tmp = pd.read_csv(file_name)\n",
    "#         print 'there are {0} records in {1}{2}'.format(df_tmp.size,year,month)\n",
    "#         df_total = pd.concat([df_total,df_tmp])\n",
    "#         start += relativedelta(months=1)\n",
    "\n",
    "#     print 'total length is {}'.format(df_total.size)\n",
    "#     out_file = 'C:\\Users\\\\tianr_000\\PycharmProjects\\data_analysis\\models\\data_incubator_challenge\\data\\\\merge.csv'\n",
    "#     df_total.to_csv(out_file)"
   ]
  },
  {
   "cell_type": "code",
   "execution_count": 2,
   "metadata": {
    "collapsed": false
   },
   "outputs": [
    {
     "data": {
      "text/html": [
       "<div>\n",
       "<table border=\"1\" class=\"dataframe\">\n",
       "  <thead>\n",
       "    <tr style=\"text-align: right;\">\n",
       "      <th></th>\n",
       "      <th>Unnamed: 0</th>\n",
       "      <th>Unnamed: 0.1</th>\n",
       "      <th>Unnamed: 0.1</th>\n",
       "      <th>tripduration</th>\n",
       "      <th>starttime</th>\n",
       "      <th>stoptime</th>\n",
       "      <th>start station id</th>\n",
       "      <th>start station name</th>\n",
       "      <th>start station latitude</th>\n",
       "      <th>start station longitude</th>\n",
       "      <th>end station id</th>\n",
       "      <th>end station name</th>\n",
       "      <th>end station latitude</th>\n",
       "      <th>end station longitude</th>\n",
       "      <th>bikeid</th>\n",
       "      <th>usertype</th>\n",
       "      <th>birth year</th>\n",
       "      <th>gender</th>\n",
       "    </tr>\n",
       "  </thead>\n",
       "  <tbody>\n",
       "    <tr>\n",
       "      <th>0</th>\n",
       "      <td>0</td>\n",
       "      <td>0</td>\n",
       "      <td>0</td>\n",
       "      <td>1346</td>\n",
       "      <td>2015-01-01 00:01:00</td>\n",
       "      <td>2015-01-01 00:24:00</td>\n",
       "      <td>455</td>\n",
       "      <td>1 Ave &amp; E 44 St</td>\n",
       "      <td>40.750020</td>\n",
       "      <td>-73.969053</td>\n",
       "      <td>265</td>\n",
       "      <td>Stanton St &amp; Chrystie St</td>\n",
       "      <td>40.722293</td>\n",
       "      <td>-73.991475</td>\n",
       "      <td>18660</td>\n",
       "      <td>Subscriber</td>\n",
       "      <td>1960.0</td>\n",
       "      <td>2</td>\n",
       "    </tr>\n",
       "    <tr>\n",
       "      <th>1</th>\n",
       "      <td>1</td>\n",
       "      <td>1</td>\n",
       "      <td>1</td>\n",
       "      <td>363</td>\n",
       "      <td>2015-01-01 00:02:00</td>\n",
       "      <td>2015-01-01 00:08:00</td>\n",
       "      <td>434</td>\n",
       "      <td>9 Ave &amp; W 18 St</td>\n",
       "      <td>40.743174</td>\n",
       "      <td>-74.003664</td>\n",
       "      <td>482</td>\n",
       "      <td>W 15 St &amp; 7 Ave</td>\n",
       "      <td>40.739355</td>\n",
       "      <td>-73.999318</td>\n",
       "      <td>16085</td>\n",
       "      <td>Subscriber</td>\n",
       "      <td>1963.0</td>\n",
       "      <td>1</td>\n",
       "    </tr>\n",
       "    <tr>\n",
       "      <th>2</th>\n",
       "      <td>2</td>\n",
       "      <td>2</td>\n",
       "      <td>2</td>\n",
       "      <td>346</td>\n",
       "      <td>2015-01-01 00:04:00</td>\n",
       "      <td>2015-01-01 00:10:00</td>\n",
       "      <td>491</td>\n",
       "      <td>E 24 St &amp; Park Ave S</td>\n",
       "      <td>40.740964</td>\n",
       "      <td>-73.986022</td>\n",
       "      <td>505</td>\n",
       "      <td>6 Ave &amp; W 33 St</td>\n",
       "      <td>40.749013</td>\n",
       "      <td>-73.988484</td>\n",
       "      <td>20845</td>\n",
       "      <td>Subscriber</td>\n",
       "      <td>1974.0</td>\n",
       "      <td>1</td>\n",
       "    </tr>\n",
       "    <tr>\n",
       "      <th>3</th>\n",
       "      <td>3</td>\n",
       "      <td>3</td>\n",
       "      <td>3</td>\n",
       "      <td>182</td>\n",
       "      <td>2015-01-01 00:04:00</td>\n",
       "      <td>2015-01-01 00:07:00</td>\n",
       "      <td>384</td>\n",
       "      <td>Fulton St &amp; Waverly Ave</td>\n",
       "      <td>40.683178</td>\n",
       "      <td>-73.965964</td>\n",
       "      <td>399</td>\n",
       "      <td>Lafayette Ave &amp; St James Pl</td>\n",
       "      <td>40.688515</td>\n",
       "      <td>-73.964763</td>\n",
       "      <td>19610</td>\n",
       "      <td>Subscriber</td>\n",
       "      <td>1969.0</td>\n",
       "      <td>1</td>\n",
       "    </tr>\n",
       "    <tr>\n",
       "      <th>4</th>\n",
       "      <td>4</td>\n",
       "      <td>4</td>\n",
       "      <td>4</td>\n",
       "      <td>969</td>\n",
       "      <td>2015-01-01 00:05:00</td>\n",
       "      <td>2015-01-01 00:21:00</td>\n",
       "      <td>474</td>\n",
       "      <td>5 Ave &amp; E 29 St</td>\n",
       "      <td>40.745168</td>\n",
       "      <td>-73.986831</td>\n",
       "      <td>432</td>\n",
       "      <td>E 7 St &amp; Avenue A</td>\n",
       "      <td>40.726218</td>\n",
       "      <td>-73.983799</td>\n",
       "      <td>20197</td>\n",
       "      <td>Subscriber</td>\n",
       "      <td>1977.0</td>\n",
       "      <td>1</td>\n",
       "    </tr>\n",
       "  </tbody>\n",
       "</table>\n",
       "</div>"
      ],
      "text/plain": [
       "   Unnamed: 0  Unnamed: 0.1  Unnamed: 0.1  tripduration            starttime  \\\n",
       "0           0             0             0          1346  2015-01-01 00:01:00   \n",
       "1           1             1             1           363  2015-01-01 00:02:00   \n",
       "2           2             2             2           346  2015-01-01 00:04:00   \n",
       "3           3             3             3           182  2015-01-01 00:04:00   \n",
       "4           4             4             4           969  2015-01-01 00:05:00   \n",
       "\n",
       "              stoptime  start station id       start station name  \\\n",
       "0  2015-01-01 00:24:00               455          1 Ave & E 44 St   \n",
       "1  2015-01-01 00:08:00               434          9 Ave & W 18 St   \n",
       "2  2015-01-01 00:10:00               491     E 24 St & Park Ave S   \n",
       "3  2015-01-01 00:07:00               384  Fulton St & Waverly Ave   \n",
       "4  2015-01-01 00:21:00               474          5 Ave & E 29 St   \n",
       "\n",
       "   start station latitude  start station longitude  end station id  \\\n",
       "0               40.750020               -73.969053             265   \n",
       "1               40.743174               -74.003664             482   \n",
       "2               40.740964               -73.986022             505   \n",
       "3               40.683178               -73.965964             399   \n",
       "4               40.745168               -73.986831             432   \n",
       "\n",
       "              end station name  end station latitude  end station longitude  \\\n",
       "0     Stanton St & Chrystie St             40.722293             -73.991475   \n",
       "1              W 15 St & 7 Ave             40.739355             -73.999318   \n",
       "2              6 Ave & W 33 St             40.749013             -73.988484   \n",
       "3  Lafayette Ave & St James Pl             40.688515             -73.964763   \n",
       "4            E 7 St & Avenue A             40.726218             -73.983799   \n",
       "\n",
       "   bikeid    usertype  birth year  gender  \n",
       "0   18660  Subscriber      1960.0       2  \n",
       "1   16085  Subscriber      1963.0       1  \n",
       "2   20845  Subscriber      1974.0       1  \n",
       "3   19610  Subscriber      1969.0       1  \n",
       "4   20197  Subscriber      1977.0       1  "
      ]
     },
     "execution_count": 2,
     "metadata": {},
     "output_type": "execute_result"
    }
   ],
   "source": [
    "# define the data path \n",
    "import os\n",
    "__file__  = os.path.abspath('proposal_plot')\n",
    "data_dir = __file__ + '\\\\..\\\\data'\n",
    "data_path = data_dir + '\\\\modified_merge2.csv'\n",
    "df_total = pd.read_csv(data_path)\n",
    "df_total.head(5)"
   ]
  },
  {
   "cell_type": "code",
   "execution_count": 3,
   "metadata": {
    "collapsed": false
   },
   "outputs": [
    {
     "data": {
      "text/html": [
       "<div>\n",
       "<table border=\"1\" class=\"dataframe\">\n",
       "  <thead>\n",
       "    <tr style=\"text-align: right;\">\n",
       "      <th></th>\n",
       "      <th>tripduration</th>\n",
       "      <th>starttime</th>\n",
       "      <th>stoptime</th>\n",
       "      <th>start station id</th>\n",
       "      <th>start station name</th>\n",
       "      <th>start station latitude</th>\n",
       "      <th>start station longitude</th>\n",
       "      <th>end station id</th>\n",
       "      <th>end station name</th>\n",
       "      <th>end station latitude</th>\n",
       "      <th>end station longitude</th>\n",
       "      <th>bikeid</th>\n",
       "      <th>usertype</th>\n",
       "    </tr>\n",
       "  </thead>\n",
       "  <tbody>\n",
       "    <tr>\n",
       "      <th>0</th>\n",
       "      <td>1346</td>\n",
       "      <td>2015-01-01 00:01:00</td>\n",
       "      <td>2015-01-01 00:24:00</td>\n",
       "      <td>455</td>\n",
       "      <td>1 Ave &amp; E 44 St</td>\n",
       "      <td>40.750020</td>\n",
       "      <td>-73.969053</td>\n",
       "      <td>265</td>\n",
       "      <td>Stanton St &amp; Chrystie St</td>\n",
       "      <td>40.722293</td>\n",
       "      <td>-73.991475</td>\n",
       "      <td>18660</td>\n",
       "      <td>Subscriber</td>\n",
       "    </tr>\n",
       "    <tr>\n",
       "      <th>1</th>\n",
       "      <td>363</td>\n",
       "      <td>2015-01-01 00:02:00</td>\n",
       "      <td>2015-01-01 00:08:00</td>\n",
       "      <td>434</td>\n",
       "      <td>9 Ave &amp; W 18 St</td>\n",
       "      <td>40.743174</td>\n",
       "      <td>-74.003664</td>\n",
       "      <td>482</td>\n",
       "      <td>W 15 St &amp; 7 Ave</td>\n",
       "      <td>40.739355</td>\n",
       "      <td>-73.999318</td>\n",
       "      <td>16085</td>\n",
       "      <td>Subscriber</td>\n",
       "    </tr>\n",
       "  </tbody>\n",
       "</table>\n",
       "</div>"
      ],
      "text/plain": [
       "   tripduration            starttime             stoptime  start station id  \\\n",
       "0          1346  2015-01-01 00:01:00  2015-01-01 00:24:00               455   \n",
       "1           363  2015-01-01 00:02:00  2015-01-01 00:08:00               434   \n",
       "\n",
       "  start station name  start station latitude  start station longitude  \\\n",
       "0    1 Ave & E 44 St               40.750020               -73.969053   \n",
       "1    9 Ave & W 18 St               40.743174               -74.003664   \n",
       "\n",
       "   end station id          end station name  end station latitude  \\\n",
       "0             265  Stanton St & Chrystie St             40.722293   \n",
       "1             482           W 15 St & 7 Ave             40.739355   \n",
       "\n",
       "   end station longitude  bikeid    usertype  \n",
       "0             -73.991475   18660  Subscriber  \n",
       "1             -73.999318   16085  Subscriber  "
      ]
     },
     "execution_count": 3,
     "metadata": {},
     "output_type": "execute_result"
    }
   ],
   "source": [
    "#drop the first 3 colums, gender, birth year, \n",
    "df_total.drop(df_total.columns[[0,1,2,-2,-1]], axis=1, inplace=True)\n",
    "df_total.head(2)"
   ]
  },
  {
   "cell_type": "code",
   "execution_count": 4,
   "metadata": {
    "collapsed": false
   },
   "outputs": [
    {
     "name": "stdout",
     "output_type": "stream",
     "text": [
      "<class 'pandas.core.frame.DataFrame'>\n",
      "RangeIndex: 20200618 entries, 0 to 20200617\n",
      "Data columns (total 13 columns):\n",
      "tripduration               int64\n",
      "starttime                  object\n",
      "stoptime                   object\n",
      "start station id           int64\n",
      "start station name         object\n",
      "start station latitude     float64\n",
      "start station longitude    float64\n",
      "end station id             int64\n",
      "end station name           object\n",
      "end station latitude       float64\n",
      "end station longitude      float64\n",
      "bikeid                     int64\n",
      "usertype                   object\n",
      "dtypes: float64(4), int64(4), object(5)\n",
      "memory usage: 2.0+ GB\n"
     ]
    }
   ],
   "source": [
    "df_total.info()"
   ]
  },
  {
   "cell_type": "markdown",
   "metadata": {},
   "source": [
    "## median of trip durationof the trip \n",
    " 6.360000e+02, approximately 10 minutes"
   ]
  },
  {
   "cell_type": "code",
   "execution_count": 5,
   "metadata": {
    "collapsed": false
   },
   "outputs": [
    {
     "data": {
      "text/plain": [
       "count    2.020062e+07\n",
       "mean     9.782798e+02\n",
       "std      8.492241e+03\n",
       "min      6.000000e+01\n",
       "25%      3.880000e+02\n",
       "50%      6.360000e+02\n",
       "75%      1.072000e+03\n",
       "max      6.707533e+06\n",
       "Name: tripduration, dtype: float64"
      ]
     },
     "execution_count": 5,
     "metadata": {},
     "output_type": "execute_result"
    }
   ],
   "source": [
    "df_total['tripduration'].describe()"
   ]
  },
  {
   "cell_type": "markdown",
   "metadata": {},
   "source": [
    "## fraction of the same location for start station and end location\n",
    "    0.021271873959499654"
   ]
  },
  {
   "cell_type": "code",
   "execution_count": 6,
   "metadata": {
    "collapsed": true
   },
   "outputs": [],
   "source": [
    "index = df_total['start station name'] == df_total['end station name']"
   ]
  },
  {
   "cell_type": "code",
   "execution_count": 8,
   "metadata": {
    "collapsed": false
   },
   "outputs": [
    {
     "data": {
      "text/plain": [
       "0.021271873959499654"
      ]
     },
     "execution_count": 8,
     "metadata": {},
     "output_type": "execute_result"
    }
   ],
   "source": [
    "len(index[index  == True])  * 1.0 / len(index)"
   ]
  },
  {
   "cell_type": "markdown",
   "metadata": {},
   "source": [
    "## std of the num of bike visits\n",
    "    We say a bike has visited a station if it has a ride that either started or ended at that station. Some bikes have visited many stations; others just a few. What is the standard deviation of the number of stations visited by a bike?  \n",
    "         93.72912787194467"
   ]
  },
  {
   "cell_type": "code",
   "execution_count": 9,
   "metadata": {
    "collapsed": true
   },
   "outputs": [],
   "source": [
    "grouped_by_bikeid = df_total.groupby('bikeid')\n",
    "res = grouped_by_bikeid.apply(lambda x:len(pd.unique(x[['start station name','end station name']].values.ravel())))"
   ]
  },
  {
   "cell_type": "code",
   "execution_count": 10,
   "metadata": {
    "collapsed": false
   },
   "outputs": [
    {
     "data": {
      "text/plain": [
       "93.72912787194467"
      ]
     },
     "execution_count": 10,
     "metadata": {},
     "output_type": "execute_result"
    }
   ],
   "source": [
    "res.std()"
   ]
  },
  {
   "cell_type": "markdown",
   "metadata": {},
   "source": [
    "## average length\n",
    "What is the average length, in kilometers, of a trip? Assume trips follow great circle arcs from the start station to the end station. Ignore trips that start and end at the same station, as well as those with obviously wrong data.\n",
    "\n",
    "    This step cost a lot of tume since we need to apply the function to each row of the df. Maybe distributed computing is faster, ~.~\n",
    "    1.2982226630754707"
   ]
  },
  {
   "cell_type": "markdown",
   "metadata": {},
   "source": [
    "the math function for given two points are:\n",
    "    \ta = sin²(Δφ/2) + cos φ1 ⋅ cos φ2 ⋅ sin²(Δλ/2)\n",
    "        c = 2 ⋅ atan2( √a, √(1−a) )\n",
    "        d = R ⋅ c"
   ]
  },
  {
   "cell_type": "code",
   "execution_count": 12,
   "metadata": {
    "collapsed": true
   },
   "outputs": [],
   "source": [
    "from math import radians, cos, sin, asin, sqrt\n",
    "def cal_distance_for_great_circle(lon1, lat1, lon2, lat2):\n",
    "    \"\"\"\n",
    "    Calculate the great circle distance between two points \n",
    "    on the earth (specified in decimal degrees)\n",
    "    \"\"\"\n",
    "    # convert decimal degrees to radians \n",
    "    lon1, lat1, lon2, lat2 = map(radians, [lon1, lat1, lon2, lat2])\n",
    "    # haversine formula \n",
    "    dlon = lon2 - lon1 \n",
    "    dlat = lat2 - lat1 \n",
    "    a = sin(dlat/2)**2 + cos(lat1) * cos(lat2) * sin(dlon/2)**2\n",
    "    c = 2 * asin(sqrt(a)) \n",
    "    res = 6367 * c\n",
    "    \n",
    "    # here if the distance is greater 100, we may think it is unresonable\n",
    "    if res > 100:\n",
    "        return 0\n",
    "    \n",
    "    return res"
   ]
  },
  {
   "cell_type": "code",
   "execution_count": 13,
   "metadata": {
    "collapsed": true
   },
   "outputs": [],
   "source": [
    "len_sery = df_total.apply(lambda x:cal_distance_for_great_circle(x['start station latitude'],x['start station longitude'],\n",
    "                                                                x['end station latitude'],x['end station longitude']),axis=1)"
   ]
  },
  {
   "cell_type": "code",
   "execution_count": 14,
   "metadata": {
    "collapsed": false
   },
   "outputs": [
    {
     "data": {
      "text/plain": [
       "count    2.020062e+07\n",
       "mean     1.298223e+00\n",
       "std      9.825651e-01\n",
       "min      0.000000e+00\n",
       "25%      6.006833e-01\n",
       "50%      1.056721e+00\n",
       "75%      1.729268e+00\n",
       "max      1.125060e+01\n",
       "dtype: float64"
      ]
     },
     "execution_count": 14,
     "metadata": {},
     "output_type": "execute_result"
    }
   ],
   "source": [
    "# check the resonability of each result\n",
    "len_sery.describe()"
   ]
  },
  {
   "cell_type": "code",
   "execution_count": 15,
   "metadata": {
    "collapsed": false
   },
   "outputs": [
    {
     "data": {
      "text/plain": [
       "1.2982226630754707"
      ]
     },
     "execution_count": 15,
     "metadata": {},
     "output_type": "execute_result"
    }
   ],
   "source": [
    "len_sery.mean()"
   ]
  },
  {
   "cell_type": "markdown",
   "metadata": {},
   "source": [
    "## average duration\n",
    "    Calculate the average duration of trips for each month in the year. (Consider a trip to occur in the month in which it starts.) What is the difference, in seconds, between the longest and shortest average durations?   \n",
    "        430.57029597000519 \n",
    "    "
   ]
  },
  {
   "cell_type": "code",
   "execution_count": 23,
   "metadata": {
    "collapsed": false
   },
   "outputs": [
    {
     "data": {
      "text/html": [
       "<div>\n",
       "<table border=\"1\" class=\"dataframe\">\n",
       "  <thead>\n",
       "    <tr style=\"text-align: right;\">\n",
       "      <th></th>\n",
       "      <th>tripduration</th>\n",
       "      <th>starttime</th>\n",
       "      <th>stoptime</th>\n",
       "      <th>start station id</th>\n",
       "      <th>start station name</th>\n",
       "      <th>start station latitude</th>\n",
       "      <th>start station longitude</th>\n",
       "      <th>end station id</th>\n",
       "      <th>end station name</th>\n",
       "      <th>end station latitude</th>\n",
       "      <th>end station longitude</th>\n",
       "      <th>bikeid</th>\n",
       "      <th>usertype</th>\n",
       "    </tr>\n",
       "  </thead>\n",
       "  <tbody>\n",
       "    <tr>\n",
       "      <th>0</th>\n",
       "      <td>1346</td>\n",
       "      <td>2015-01-01 00:01:00</td>\n",
       "      <td>2015-01-01 00:24:00</td>\n",
       "      <td>455</td>\n",
       "      <td>1 Ave &amp; E 44 St</td>\n",
       "      <td>40.750020</td>\n",
       "      <td>-73.969053</td>\n",
       "      <td>265</td>\n",
       "      <td>Stanton St &amp; Chrystie St</td>\n",
       "      <td>40.722293</td>\n",
       "      <td>-73.991475</td>\n",
       "      <td>18660</td>\n",
       "      <td>Subscriber</td>\n",
       "    </tr>\n",
       "    <tr>\n",
       "      <th>1</th>\n",
       "      <td>363</td>\n",
       "      <td>2015-01-01 00:02:00</td>\n",
       "      <td>2015-01-01 00:08:00</td>\n",
       "      <td>434</td>\n",
       "      <td>9 Ave &amp; W 18 St</td>\n",
       "      <td>40.743174</td>\n",
       "      <td>-74.003664</td>\n",
       "      <td>482</td>\n",
       "      <td>W 15 St &amp; 7 Ave</td>\n",
       "      <td>40.739355</td>\n",
       "      <td>-73.999318</td>\n",
       "      <td>16085</td>\n",
       "      <td>Subscriber</td>\n",
       "    </tr>\n",
       "  </tbody>\n",
       "</table>\n",
       "</div>"
      ],
      "text/plain": [
       "   tripduration            starttime             stoptime  start station id  \\\n",
       "0          1346  2015-01-01 00:01:00  2015-01-01 00:24:00               455   \n",
       "1           363  2015-01-01 00:02:00  2015-01-01 00:08:00               434   \n",
       "\n",
       "  start station name  start station latitude  start station longitude  \\\n",
       "0    1 Ave & E 44 St               40.750020               -73.969053   \n",
       "1    9 Ave & W 18 St               40.743174               -74.003664   \n",
       "\n",
       "   end station id          end station name  end station latitude  \\\n",
       "0             265  Stanton St & Chrystie St             40.722293   \n",
       "1             482           W 15 St & 7 Ave             40.739355   \n",
       "\n",
       "   end station longitude  bikeid    usertype  \n",
       "0             -73.991475   18660  Subscriber  \n",
       "1             -73.999318   16085  Subscriber  "
      ]
     },
     "execution_count": 23,
     "metadata": {},
     "output_type": "execute_result"
    }
   ],
   "source": [
    "df_total.head(2)"
   ]
  },
  {
   "cell_type": "code",
   "execution_count": 30,
   "metadata": {
    "collapsed": false
   },
   "outputs": [],
   "source": [
    "# add one colume to denote the year and month according to the start_time\n",
    "# def get_year_month(time):\n",
    "#     return time[:7]\n",
    "# print get_year_month('2015-01-01 00:01:00')\n",
    "year_month = df_total.starttime.apply(lambda x: x[:7])"
   ]
  },
  {
   "cell_type": "code",
   "execution_count": 31,
   "metadata": {
    "collapsed": false
   },
   "outputs": [
    {
     "data": {
      "text/plain": [
       "starttime\n",
       "2015-01     654.325583\n",
       "2015-02     649.383207\n",
       "2015-03     734.316673\n",
       "2015-04     929.884482\n",
       "2015-05    1000.233767\n",
       "dtype: float64"
      ]
     },
     "execution_count": 31,
     "metadata": {},
     "output_type": "execute_result"
    }
   ],
   "source": [
    "# then group by the year_month\n",
    "ave_duration_month = df_total.groupby(year_month).apply(lambda x:x['tripduration'].mean())\n",
    "ave_duration_month.head()"
   ]
  },
  {
   "cell_type": "code",
   "execution_count": 35,
   "metadata": {
    "collapsed": false
   },
   "outputs": [
    {
     "data": {
      "text/plain": [
       "starttime\n",
       "2015-01     654.325583\n",
       "2015-02     649.383207\n",
       "2015-03     734.316673\n",
       "2015-04     929.884482\n",
       "2015-05    1000.233767\n",
       "2015-06     904.602783\n",
       "2015-07     967.670092\n",
       "2015-08    1017.478667\n",
       "2015-09    1050.849829\n",
       "2015-10    1079.953503\n",
       "2015-11     972.018670\n",
       "2015-12     945.711619\n",
       "2016-01     847.211931\n",
       "2016-02     877.094959\n",
       "2016-03    1019.789868\n",
       "2016-04    1074.349986\n",
       "2016-05    1052.514054\n",
       "2016-06     989.758037\n",
       "2016-07    1000.327859\n",
       "2016-08     980.285741\n",
       "2016-09     947.343280\n",
       "dtype: float64"
      ]
     },
     "execution_count": 35,
     "metadata": {},
     "output_type": "execute_result"
    }
   ],
   "source": [
    "ave_duration_month"
   ]
  },
  {
   "cell_type": "code",
   "execution_count": 37,
   "metadata": {
    "collapsed": false
   },
   "outputs": [
    {
     "data": {
      "text/plain": [
       "430.57029597000519"
      ]
     },
     "execution_count": 37,
     "metadata": {},
     "output_type": "execute_result"
    }
   ],
   "source": [
    "# calculate the max difference between longest and lowest\n",
    "ave_duration_month.max() - ave_duration_month.min()"
   ]
  },
  {
   "cell_type": "code",
   "execution_count": 44,
   "metadata": {
    "collapsed": false
   },
   "outputs": [
    {
     "data": {
      "text/plain": [
       "starttime\n",
       "2015-01      42963\n",
       "2015-02      42956\n",
       "2015-03    1007554\n",
       "2015-04    5864601\n",
       "2015-05    2937642\n",
       "2015-06    1691813\n",
       "2015-07    5174249\n",
       "2015-08    2842220\n",
       "2015-09    1794429\n",
       "2015-10    3139284\n",
       "2015-11    2223965\n",
       "2015-12    2932817\n",
       "2016-01    1959956\n",
       "2016-02    1811417\n",
       "2016-03    2825766\n",
       "2016-04    3652686\n",
       "2016-05    2060507\n",
       "2016-06    3129230\n",
       "2016-07    6707472\n",
       "2016-08    3966882\n",
       "2016-09    1807371\n",
       "Name: tripduration, dtype: int64"
      ]
     },
     "execution_count": 44,
     "metadata": {},
     "output_type": "execute_result"
    }
   ],
   "source": [
    "# this is the (max - min) for each month \n",
    "max_dif_month = df_total['tripduration'].groupby(year_month).apply(lambda x:x.max() - x.min())\n",
    "max_dif_month"
   ]
  },
  {
   "cell_type": "markdown",
   "metadata": {},
   "source": [
    "## hourly usage fraction\n",
    "    Let us define the hourly usage fraction of a station to be the fraction of all rides starting at that station that leave during a specific hour. A station has surprising usage patterns if it has an hourly usage fraction for an hour significantly different from the corresponding hourly usage fraction of the system as a whole. What is the largest ratio of station hourly usage fraction to system hourly usage fraction (hence corresponding to the most \"surprising\" station-hour pair)?"
   ]
  },
  {
   "cell_type": "code",
   "execution_count": null,
   "metadata": {
    "collapsed": true
   },
   "outputs": [],
   "source": [
    ""
   ]
  },
  {
   "cell_type": "markdown",
   "metadata": {},
   "source": [
    "### Exceed the time limit?\n",
    "    There are two types of riders: \"Customers\" and \"Subscribers.\" Customers buy a short-time pass which allows 30-minute rides. Subscribers buy yearly passes that allow 45-minute rides. What fraction of rides exceed their corresponding time limit?   \n",
    "          0.037156288980861873  "
   ]
  },
  {
   "cell_type": "code",
   "execution_count": 45,
   "metadata": {
    "collapsed": true
   },
   "outputs": [],
   "source": [
    "def get_exceed_bool(sery):\n",
    "    if sery['usertype'] == 'Customer':\n",
    "        return True if sery['tripduration'] > 1800 else False\n",
    "    elif sery['usertype'] == 'Subscriber':\n",
    "        return True if sery['tripduration'] > 2700 else False\n",
    "    else:\n",
    "        raise ValueError('No such usertype')"
   ]
  },
  {
   "cell_type": "code",
   "execution_count": 46,
   "metadata": {
    "collapsed": true
   },
   "outputs": [],
   "source": [
    "exceed_bool = df_total[['tripduration','usertype']].apply(lambda x:get_exceed_bool(x),axis=1)"
   ]
  },
  {
   "cell_type": "code",
   "execution_count": 47,
   "metadata": {
    "collapsed": false
   },
   "outputs": [
    {
     "data": {
      "text/plain": [
       "0    False\n",
       "1    False\n",
       "2    False\n",
       "3    False\n",
       "4    False\n",
       "5    False\n",
       "6    False\n",
       "7    False\n",
       "8    False\n",
       "9    False\n",
       "dtype: bool"
      ]
     },
     "execution_count": 47,
     "metadata": {},
     "output_type": "execute_result"
    }
   ],
   "source": [
    "exceed_bool.head(10)"
   ]
  },
  {
   "cell_type": "code",
   "execution_count": 49,
   "metadata": {
    "collapsed": false
   },
   "outputs": [
    {
     "data": {
      "text/plain": [
       "0.037156288980861873"
      ]
     },
     "execution_count": 49,
     "metadata": {},
     "output_type": "execute_result"
    }
   ],
   "source": [
    "len(exceed_bool[exceed_bool == True]) * 1.0 / len(exceed_bool)"
   ]
  },
  {
   "cell_type": "markdown",
   "metadata": {},
   "source": [
    "## average number of times a bike is moved\n",
    "    Most of the time, a bike will begin a trip at the same station where its previous trip ended. Sometimes a bike will be moved by the program, either for maintenance or to rebalance the distribution of bikes. What is the average number of times a bike is moved during this period, as detected by seeing if it starts at a different station than where the previous ride ended?   \n",
    "    234.7464145427971"
   ]
  },
  {
   "cell_type": "code",
   "execution_count": 50,
   "metadata": {
    "collapsed": true
   },
   "outputs": [],
   "source": [
    "grouped_bike = df_total.groupby('bikeid')"
   ]
  },
  {
   "cell_type": "code",
   "execution_count": 51,
   "metadata": {
    "collapsed": true
   },
   "outputs": [],
   "source": [
    "def cal_difference(df):\n",
    "    '''\n",
    "     compare the current start station and previous stop station, if it is different, return 1\n",
    "    '''\n",
    "    \n",
    "    # extract the start_station and end_station\n",
    "#     df.sort_values(by = 'starttime',inplace = True)\n",
    "    start_station = df['start station name']\n",
    "    end_station = df['end station name']\n",
    "    \n",
    "#     print 'size of start station is {}'.format(start_station.size)\n",
    "    \n",
    "    # append the element to the end station and start station so that we can peform == directly\n",
    "    end_station_new = pd.Series([start_station.iloc[0]]).append(end_station)\n",
    "    start_station_new = start_station.append(pd.Series([end_station.iloc[-1]]))\n",
    "    tmp = end_station_new != start_station_new\n",
    "    \n",
    "#     print tmp[tmp].size,'\\n'\n",
    "    return tmp[tmp].size # count have many differences"
   ]
  },
  {
   "cell_type": "code",
   "execution_count": 52,
   "metadata": {
    "collapsed": true
   },
   "outputs": [],
   "source": [
    "bike_dif = grouped_bike.apply(lambda x:cal_difference(x))"
   ]
  },
  {
   "cell_type": "code",
   "execution_count": 53,
   "metadata": {
    "collapsed": false
   },
   "outputs": [
    {
     "data": {
      "text/plain": [
       "bikeid\n",
       "14529    346\n",
       "14530    321\n",
       "14531    240\n",
       "14532    277\n",
       "14533    289\n",
       "14534    361\n",
       "14535    380\n",
       "14536    278\n",
       "14537    295\n",
       "14538    308\n",
       "dtype: int64"
      ]
     },
     "execution_count": 53,
     "metadata": {},
     "output_type": "execute_result"
    }
   ],
   "source": [
    "bike_dif.head(10)"
   ]
  },
  {
   "cell_type": "code",
   "execution_count": 54,
   "metadata": {
    "collapsed": false
   },
   "outputs": [
    {
     "data": {
      "text/plain": [
       "234.7464145427971"
      ]
     },
     "execution_count": 54,
     "metadata": {},
     "output_type": "execute_result"
    }
   ],
   "source": [
    "bike_dif.mean()"
   ]
  }
 ],
 "metadata": {
  "kernelspec": {
   "display_name": "Python [Root]",
   "language": "python",
   "name": "Python [Root]"
  },
  "language_info": {
   "codemirror_mode": {
    "name": "ipython",
    "version": 2.0
   },
   "file_extension": ".py",
   "mimetype": "text/x-python",
   "name": "python",
   "nbconvert_exporter": "python",
   "pygments_lexer": "ipython2",
   "version": "2.7.12"
  }
 },
 "nbformat": 4,
 "nbformat_minor": 0
}